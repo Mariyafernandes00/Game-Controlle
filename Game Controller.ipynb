{
 "cells": [
  {
   "cell_type": "code",
   "execution_count": null,
   "id": "3626aa32",
   "metadata": {},
   "outputs": [
    {
     "name": "stderr",
     "output_type": "stream",
     "text": [
      "INFO: Created TensorFlow Lite XNNPACK delegate for CPU.\n"
     ]
    }
   ],
   "source": [
    "import cv2\n",
    "import mediapipe as mp\n",
    "import pyautogui\n",
    "\n",
    "# Function to map hand gestures to keyboard keys\n",
    "def map_gesture_to_key(gesture):\n",
    "    if gesture == \"thumbs_up\":\n",
    "        pyautogui.press('up')  # Move up\n",
    "    elif gesture == \"thumbs_down\":\n",
    "        pyautogui.press('down')  # Move down\n",
    "    elif gesture == \"thumb_right\":\n",
    "        pyautogui.press('right')  # Move right\n",
    "    elif gesture == \"thumb_left\":\n",
    "        pyautogui.press('left')  # Move left\n",
    "\n",
    "# Initialize Mediapipe Hands\n",
    "mp_hands = mp.solutions.hands\n",
    "hands = mp_hands.Hands()\n",
    "\n",
    "# Webcam setup\n",
    "cap = cv2.VideoCapture(0)\n",
    "\n",
    "while cap.isOpened():\n",
    "    ret, frame = cap.read()\n",
    "    if not ret:\n",
    "        break\n",
    "\n",
    "    # Convert the image to RGB\n",
    "    frame_rgb = cv2.cvtColor(frame, cv2.COLOR_BGR2RGB)\n",
    "\n",
    "    # Detect hands\n",
    "    results = hands.process(frame_rgb)\n",
    "\n",
    "    if results.multi_hand_landmarks:\n",
    "        for hand_landmarks in results.multi_hand_landmarks:\n",
    "            # Get landmarks\n",
    "            landmarks = []\n",
    "            for i in range(21):\n",
    "                landmark = hand_landmarks.landmark[i]\n",
    "                landmarks.append((landmark.x, landmark.y))\n",
    "\n",
    "            # Check for gestures\n",
    "            # For simplicity, let's assume thumb up, thumb down, index finger up, and index finger down are our gestures\n",
    "            thumb = landmarks[4]\n",
    "            index = landmarks[8]\n",
    "\n",
    "            if thumb[1] < landmarks[3][1] and thumb[1] < landmarks[2][1]:\n",
    "                gesture = \"thumbs_up\"\n",
    "            elif thumb[1] > landmarks[3][1] and thumb[1] > landmarks[2][1]:\n",
    "                gesture = \"thumbs_down\"\n",
    "            elif thumb[0] < landmarks[8][0] and thumb[0] < landmarks[7][0]:  # Corrected condition here\n",
    "                gesture = \"thumb_right\"\n",
    "            elif thumb[0] > landmarks[8][0] and thumb[0] > landmarks[7][0]:\n",
    "                gesture = \"thumb_left\"\n",
    "            else:\n",
    "                gesture = None\n",
    "\n",
    "            # Map gesture to keyboard key\n",
    "            if gesture:\n",
    "                map_gesture_to_key(gesture)\n",
    "\n",
    "            # Draw landmarks on hand\n",
    "            for landmark in landmarks:\n",
    "                x, y = int(landmark[0] * frame.shape[1]), int(landmark[1] * frame.shape[0])\n",
    "                cv2.circle(frame, (x, y), 5, (255, 0, 0), -1)\n",
    "\n",
    "    # Display the frame\n",
    "    cv2.imshow(\"Game Controller\", frame)\n",
    "\n",
    "    if cv2.waitKey(1) & 0xFF == ord('q'):\n",
    "        break\n",
    "\n",
    "# Release resources\n",
    "cap.release()\n",
    "cv2.destroyAllWindows()\n"
   ]
  },
  {
   "cell_type": "code",
   "execution_count": null,
   "id": "5d9f905d",
   "metadata": {},
   "outputs": [],
   "source": []
  }
 ],
 "metadata": {
  "kernelspec": {
   "display_name": "Python 3 (ipykernel)",
   "language": "python",
   "name": "python3"
  },
  "language_info": {
   "codemirror_mode": {
    "name": "ipython",
    "version": 3
   },
   "file_extension": ".py",
   "mimetype": "text/x-python",
   "name": "python",
   "nbconvert_exporter": "python",
   "pygments_lexer": "ipython3",
   "version": "3.11.5"
  }
 },
 "nbformat": 4,
 "nbformat_minor": 5
}
